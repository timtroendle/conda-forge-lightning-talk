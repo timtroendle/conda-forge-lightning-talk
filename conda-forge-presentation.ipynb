{
 "cells": [
  {
   "cell_type": "markdown",
   "metadata": {
    "slideshow": {
     "slide_type": "slide"
    }
   },
   "source": [
    "# conda-forge\n",
    "\n",
    "community-driven package distribution in the open ❤️"
   ]
  },
  {
   "cell_type": "markdown",
   "metadata": {
    "slideshow": {
     "slide_type": "slide"
    }
   },
   "source": [
    "## conda: state of the open\n",
    "\n",
    "* open:\n",
    "    * **conda** package manager\n",
    "* closed:\n",
    "    * **anaconda.org** conda package repository\n",
    "    * **default** conda channel and its packages"
   ]
  },
  {
   "cell_type": "markdown",
   "metadata": {
    "slideshow": {
     "slide_type": "slide"
    }
   },
   "source": [
    "```\n",
    "    conda config --add channel absolutely-trustworthy-channel\n",
    "\n",
    "    conda install harmless-binary\n",
    "```"
   ]
  },
  {
   "cell_type": "markdown",
   "metadata": {
    "slideshow": {
     "slide_type": "slide"
    }
   },
   "source": [
    "## conda-forge\n",
    "\n",
    "* channel on anaconda.org\n",
    "* collection of recipes as GitHub repositories\n",
    "* collection of workflows, tools, and bots to automate build, test, and distribution"
   ]
  },
  {
   "cell_type": "markdown",
   "metadata": {
    "slideshow": {
     "slide_type": "slide"
    }
   },
   "source": [
    "## conda-forge: state of the open\n",
    "\n",
    "* open:\n",
    "    * **conda** package manager\n",
    "    * **conda-forge** conda channel and its packages\n",
    "* closed:\n",
    "    * **anaconda.org** conda package repository"
   ]
  },
  {
   "cell_type": "markdown",
   "metadata": {
    "slideshow": {
     "slide_type": "slide"
    }
   },
   "source": [
    "Use the channel:\n",
    "\n",
    "`conda config --add channel conda-forge`"
   ]
  },
  {
   "cell_type": "markdown",
   "metadata": {
    "slideshow": {
     "slide_type": "subslide"
    }
   },
   "source": [
    "**or** add it to your requirements file\n",
    "```\n",
    "    name: conda-forge-env\n",
    "    channels:\n",
    "      - conda-forge\n",
    "    dependencies:\n",
    "      - numpy=1.12.*\n",
    "      - ...\n",
    "```"
   ]
  },
  {
   "cell_type": "markdown",
   "metadata": {
    "slideshow": {
     "slide_type": "slide"
    }
   },
   "source": [
    "... and then add your package!\n",
    "\n",
    "https://conda-forge.github.io/#contribute\n",
    "\n"
   ]
  }
 ],
 "metadata": {
  "celltoolbar": "Slideshow",
  "kernelspec": {
   "display_name": "Python 3",
   "language": "python",
   "name": "python3"
  },
  "language_info": {
   "codemirror_mode": {
    "name": "ipython",
    "version": 3
   },
   "file_extension": ".py",
   "mimetype": "text/x-python",
   "name": "python",
   "nbconvert_exporter": "python",
   "pygments_lexer": "ipython3",
   "version": "3.5.3"
  }
 },
 "nbformat": 4,
 "nbformat_minor": 2
}
